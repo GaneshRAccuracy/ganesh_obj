{
  "cells": [
    {
      "cell_type": "markdown",
      "metadata": {
        "id": "view-in-github",
        "colab_type": "text"
      },
      "source": [
        "<a href=\"https://colab.research.google.com/github/GaneshRAccuracy/ganesh_obj/blob/master/Welcome_To_Colaboratory.ipynb\" target=\"_parent\"><img src=\"https://colab.research.google.com/assets/colab-badge.svg\" alt=\"Open In Colab\"/></a>"
      ]
    },
    {
      "cell_type": "code",
      "source": [
        "import pandas as pd\n",
        "import smtplib,ssl,time"
      ],
      "metadata": {
        "id": "g9LT1fYfaf2z"
      },
      "execution_count": 1,
      "outputs": []
    },
    {
      "cell_type": "code",
      "source": [
        "sender = \"gana170698@gmail.com\"\n",
        "password = \"ncuepyknqtkpmdkb\"\n",
        "\n",
        "server =smtplib.SMTP_SSL('smtp.gmail.com',465)\n",
        "server.ehlo()\n",
        "server.login(sender,password)\n",
        "df = pd.read_excel(\"ganeshmail.xlsx\")\n",
        "lname= df['name']\n",
        "lmail= df['mail']\n",
        "\n",
        "for i in range(len(lname)):\n",
        "  name = lname[i]\n",
        "  email =lmail[i]\n",
        "  message = \"\"\n",
        "  message += \"Subject:Test \\n\"\n",
        "  message += \"To: \"+email + \"\\n\"\n",
        "  message += \"Dear \" + name + ''',\n",
        "\n",
        "hello this is test mail dont worry about this mail.\n",
        "\n",
        "Thanks And Regards,\n",
        "Redagani Ganesh\n",
        "Python Developer\n",
        "ACCURACY\n",
        "TEL: +91 8341060798'''\n",
        "  print(message)\n",
        "\n",
        "  server.sendmail(sender,email,message)\n",
        "  time.sleep(1)\n",
        "server.close()"
      ],
      "metadata": {
        "id": "lUYivnYNa4R7",
        "outputId": "40ab409a-05bd-4084-f8c3-ed3cadcbced5",
        "colab": {
          "base_uri": "https://localhost:8080/"
        }
      },
      "execution_count": 2,
      "outputs": [
        {
          "output_type": "stream",
          "name": "stdout",
          "text": [
            "Subject:Test \n",
            "To: gollapati143@gmail.com\n",
            "Dear sai krishna,\n",
            "\n",
            "hello this is test mail dont worry about this mail.\n",
            "\n",
            "Cheers,\n",
            "Redagani Ganesh\n",
            "Python Developer\n",
            "ACCURACY\n",
            "TEL: +91 8341060798\n"
          ]
        }
      ]
    }
  ],
  "metadata": {
    "colab": {
      "name": "Welcome To Colaboratory",
      "provenance": [],
      "include_colab_link": true
    },
    "kernelspec": {
      "display_name": "Python 3",
      "name": "python3"
    }
  },
  "nbformat": 4,
  "nbformat_minor": 0
}